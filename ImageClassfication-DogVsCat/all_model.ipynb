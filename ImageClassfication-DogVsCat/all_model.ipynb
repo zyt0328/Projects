{
 "cells": [
  {
   "cell_type": "code",
   "execution_count": 22,
   "metadata": {},
   "outputs": [],
   "source": [
    "import numpy as np\n",
    "import tensorflow as tf\n",
    "import matplotlib.pyplot as plt\n",
    "from sklearn import metrics\n",
    "from tensorflow.keras.optimizers import Adam\n",
    "from sklearn.svm import LinearSVC\n",
    "from keras.models import Model\n",
    "from sklearn import svm\n",
    "import itertools\n",
    "from sklearn.cluster import KMeans\n",
    "from sklearn.ensemble import AdaBoostClassifier\n",
    "import xgboost as xgb\n",
    "from keras.models import load_model"
   ]
  },
  {
   "cell_type": "code",
   "execution_count": 23,
   "metadata": {},
   "outputs": [
    {
     "name": "stdout",
     "output_type": "stream",
     "text": [
      "Found 24959 images belonging to 2 classes.\n",
      "(1, 64, 64, 1)\n",
      "Found 9471 images belonging to 2 classes.\n"
     ]
    }
   ],
   "source": [
    "# Image data preprocecing\n",
    "train_path = './Train'\n",
    "test_path = './Test'\n",
    "imgDataGen = ImageDataGenerator(rescale=1.0/255)\n",
    "train = imgDataGen.flow_from_directory(train_path,  color_mode ='grayscale', target_size = (64, 64), batch_size = 1, class_mode = 'binary')\n",
    "print(train[0][0].shape)\n",
    "test = imgDataGen.flow_from_directory(test_path,  color_mode ='grayscale', target_size = (64, 64), batch_size = 1, class_mode = 'binary')"
   ]
  },
  {
   "cell_type": "code",
   "execution_count": 24,
   "metadata": {},
   "outputs": [
    {
     "name": "stderr",
     "output_type": "stream",
     "text": [
      "/Users/zyt/opt/anaconda3/envs/my-env/lib/python3.10/site-packages/PIL/TiffImagePlugin.py:845: UserWarning: Truncated File Read\n",
      "  warnings.warn(str(msg))\n"
     ]
    },
    {
     "name": "stdout",
     "output_type": "stream",
     "text": [
      "24959\n",
      "9471\n"
     ]
    }
   ],
   "source": [
    "train_y = []\n",
    "\n",
    "for i in range(len(train)):\n",
    "    train_y.append(train[i][1])\n",
    "train_y = list(itertools.chain(*train_y))\n",
    "print(len(train_y))\n",
    "\n",
    "test_y = []\n",
    "for i in range(len(test)):\n",
    "    test_y.append(test[i][1])\n",
    "test_y = list(itertools.chain(*test_y))\n",
    "print(len(test_y))"
   ]
  },
  {
   "cell_type": "code",
   "execution_count": 25,
   "metadata": {},
   "outputs": [],
   "source": [
    "myModel = tf.keras.models.load_model('DogVsCat')"
   ]
  },
  {
   "cell_type": "code",
   "execution_count": 26,
   "metadata": {},
   "outputs": [],
   "source": [
    "model2= Model(inputs=myModel.input, outputs=myModel.layers[-6].output)"
   ]
  },
  {
   "cell_type": "code",
   "execution_count": 27,
   "metadata": {},
   "outputs": [
    {
     "name": "stdout",
     "output_type": "stream",
     "text": [
      "22843/24959 [==========================>...] - ETA: 5s"
     ]
    },
    {
     "name": "stderr",
     "output_type": "stream",
     "text": [
      "/Users/zyt/opt/anaconda3/envs/my-env/lib/python3.10/site-packages/PIL/TiffImagePlugin.py:845: UserWarning: Truncated File Read\n",
      "  warnings.warn(str(msg))\n"
     ]
    },
    {
     "name": "stdout",
     "output_type": "stream",
     "text": [
      "24959/24959 [==============================] - 65s 3ms/step\n",
      "9471/9471 [==============================] - 23s 2ms/step\n"
     ]
    }
   ],
   "source": [
    "\n",
    "predictions_train = model2.predict(train)\n",
    "predictions_test = model2.predict(test)"
   ]
  },
  {
   "cell_type": "code",
   "execution_count": 28,
   "metadata": {},
   "outputs": [
    {
     "name": "stdout",
     "output_type": "stream",
     "text": [
      "(24959, 128)\n",
      "(9471, 128)\n"
     ]
    }
   ],
   "source": [
    "print(predictions_train.shape)\n",
    "print(predictions_test.shape)"
   ]
  },
  {
   "cell_type": "code",
   "execution_count": 29,
   "metadata": {},
   "outputs": [
    {
     "name": "stdout",
     "output_type": "stream",
     "text": [
      "Accuracy LinearSVC(%): 84.4789356984479 %\n"
     ]
    }
   ],
   "source": [
    "classifer = LinearSVC(C = 1e-9, max_iter=10000)\n",
    "classifer.fit(predictions_train,train_y)\n",
    "pred = classifer.predict(predictions_test)\n",
    "print(\"Accuracy LinearSVC(%):\",metrics.accuracy_score(pred, test_y)*100,\"%\")"
   ]
  },
  {
   "cell_type": "code",
   "execution_count": 30,
   "metadata": {},
   "outputs": [
    {
     "name": "stdout",
     "output_type": "stream",
     "text": [
      "Accuracy SVM(%): 95.79769823672262 %\n"
     ]
    }
   ],
   "source": [
    "classifer = svm.SVC(C = 1, max_iter=10000, kernel ='rbf', gamma = 0.04)\n",
    "classifer.fit(predictions_train,train_y)\n",
    "score = classifer.score(predictions_test,test_y)\n",
    "print(\"Accuracy SVM(%):\",score*100,\"%\")"
   ]
  },
  {
   "cell_type": "code",
   "execution_count": 34,
   "metadata": {},
   "outputs": [
    {
     "name": "stdout",
     "output_type": "stream",
     "text": [
      "Accuracy (%): 80.51948051948052 %\n"
     ]
    }
   ],
   "source": [
    "kmeans = KMeans(n_clusters=2)\n",
    "kmeans.fit(predictions_train)\n",
    "pred = kmeans.predict(predictions_test)\n",
    "print(\"Accuracy (%):\",metrics.accuracy_score(pred, test_y)*100,\"%\")\n"
   ]
  },
  {
   "cell_type": "code",
   "execution_count": 32,
   "metadata": {},
   "outputs": [
    {
     "name": "stdout",
     "output_type": "stream",
     "text": [
      "Accuracy (%) XGB:  0.977299123640587\n"
     ]
    }
   ],
   "source": [
    "xgbclf=xgb.XGBClassifier()\n",
    "xgbclf.fit(predictions_train,train_y)\n",
    "predict=xgbclf.predict(predictions_test)\n",
    "mixed=xgbclf.score(predictions_test,test_y)\n",
    "print(\"Accuracy (%) XGB: \", mixed)"
   ]
  },
  {
   "cell_type": "code",
   "execution_count": 33,
   "metadata": {},
   "outputs": [
    {
     "name": "stdout",
     "output_type": "stream",
     "text": [
      "Accuracy ADA(%): 93.03135888501743 %\n"
     ]
    }
   ],
   "source": [
    "clf = AdaBoostClassifier(n_estimators=100, random_state=0)\n",
    "clf.fit(predictions_train, train_y)\n",
    "result=clf.score(predictions_test, test_y)\n",
    "print(\"Accuracy ADA(%):\",result*100,\"%\")"
   ]
  }
 ],
 "metadata": {
  "kernelspec": {
   "display_name": "my-env",
   "language": "python",
   "name": "python3"
  },
  "language_info": {
   "codemirror_mode": {
    "name": "ipython",
    "version": 3
   },
   "file_extension": ".py",
   "mimetype": "text/x-python",
   "name": "python",
   "nbconvert_exporter": "python",
   "pygments_lexer": "ipython3",
   "version": "3.10.8"
  },
  "orig_nbformat": 4,
  "vscode": {
   "interpreter": {
    "hash": "fffe89ac52413fb39337687d7244f9d047e73cfd698b292667d72b398446bc8e"
   }
  }
 },
 "nbformat": 4,
 "nbformat_minor": 2
}
