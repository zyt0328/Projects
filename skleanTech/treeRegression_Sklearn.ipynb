{
 "cells": [
  {
   "cell_type": "code",
   "execution_count": 17,
   "metadata": {},
   "outputs": [],
   "source": [
    "# This should be roughly the content of the first code cell\n",
    "import numpy as np\n",
    "import random\n",
    "np.random.seed(1337)\n",
    "random.seed(1337)"
   ]
  },
  {
   "cell_type": "code",
   "execution_count": 18,
   "metadata": {},
   "outputs": [],
   "source": [
    "# Plotting support\n",
    "from matplotlib import pyplot as plt\n",
    "# Standard libraries\n",
    "import pandas as pd\n",
    "import sklearn as sk\n",
    "from sklearn.tree import DecisionTreeRegressor\n",
    "from sklearn import preprocessing\n",
    "from sklearn import metrics\n"
   ]
  },
  {
   "cell_type": "code",
   "execution_count": 19,
   "metadata": {},
   "outputs": [
    {
     "name": "stderr",
     "output_type": "stream",
     "text": [
      "/var/folders/dz/ffb7x_vj5vl9758_4vqfvj3m0000gn/T/ipykernel_79216/2624892796.py:3: SettingWithCopyWarning: \n",
      "A value is trying to be set on a copy of a slice from a DataFrame\n",
      "\n",
      "See the caveats in the documentation: https://pandas.pydata.org/pandas-docs/stable/user_guide/indexing.html#returning-a-view-versus-a-copy\n",
      "  df.dropna(inplace = True)\n"
     ]
    },
    {
     "data": {
      "text/html": [
       "<div>\n",
       "<style scoped>\n",
       "    .dataframe tbody tr th:only-of-type {\n",
       "        vertical-align: middle;\n",
       "    }\n",
       "\n",
       "    .dataframe tbody tr th {\n",
       "        vertical-align: top;\n",
       "    }\n",
       "\n",
       "    .dataframe thead th {\n",
       "        text-align: right;\n",
       "    }\n",
       "</style>\n",
       "<table border=\"1\" class=\"dataframe\">\n",
       "  <thead>\n",
       "    <tr style=\"text-align: right;\">\n",
       "      <th></th>\n",
       "      <th>democrat</th>\n",
       "      <th>county</th>\n",
       "      <th>state</th>\n",
       "      <th>education</th>\n",
       "      <th>religion</th>\n",
       "      <th>ethnic_male</th>\n",
       "      <th>ethnic_female</th>\n",
       "      <th>per_capita_inc</th>\n",
       "      <th>deep_pov_all</th>\n",
       "    </tr>\n",
       "  </thead>\n",
       "  <tbody>\n",
       "    <tr>\n",
       "      <th>0</th>\n",
       "      <td>0</td>\n",
       "      <td>Sioux County</td>\n",
       "      <td>NE</td>\n",
       "      <td>Educated</td>\n",
       "      <td>CHRISTIAN GENERIC</td>\n",
       "      <td>MULTI MALE RATE</td>\n",
       "      <td>NATIVE AMERICAN FEMALE RATE</td>\n",
       "      <td>0.632577</td>\n",
       "      <td>0.034402</td>\n",
       "    </tr>\n",
       "    <tr>\n",
       "      <th>1</th>\n",
       "      <td>1</td>\n",
       "      <td>Baltimore city</td>\n",
       "      <td>MD</td>\n",
       "      <td>Educated</td>\n",
       "      <td>OTHER MISC</td>\n",
       "      <td>WHITE MALE RATE</td>\n",
       "      <td>WHITE FEMALE RATE</td>\n",
       "      <td>0.175301</td>\n",
       "      <td>0.120282</td>\n",
       "    </tr>\n",
       "    <tr>\n",
       "      <th>2</th>\n",
       "      <td>1</td>\n",
       "      <td>Chittenden County</td>\n",
       "      <td>VT</td>\n",
       "      <td>Educated</td>\n",
       "      <td>MAINLINE CHRISTIAN</td>\n",
       "      <td>ASIAN MALE RATE</td>\n",
       "      <td>BLACK FEMALE RATE</td>\n",
       "      <td>1.722184</td>\n",
       "      <td>0.056108</td>\n",
       "    </tr>\n",
       "    <tr>\n",
       "      <th>3</th>\n",
       "      <td>0</td>\n",
       "      <td>Prince of Wales-Hyder Census Area</td>\n",
       "      <td>AK</td>\n",
       "      <td>Uneducated</td>\n",
       "      <td>OTHER MISC</td>\n",
       "      <td>BLACK MALE RATE</td>\n",
       "      <td>BLACK FEMALE RATE</td>\n",
       "      <td>0.118294</td>\n",
       "      <td>0.063867</td>\n",
       "    </tr>\n",
       "    <tr>\n",
       "      <th>4</th>\n",
       "      <td>0</td>\n",
       "      <td>St. Johns County</td>\n",
       "      <td>FL</td>\n",
       "      <td>Educated</td>\n",
       "      <td>MAINLINE CHRISTIAN</td>\n",
       "      <td>BLACK MALE RATE</td>\n",
       "      <td>BLACK FEMALE RATE</td>\n",
       "      <td>2.295051</td>\n",
       "      <td>0.042655</td>\n",
       "    </tr>\n",
       "    <tr>\n",
       "      <th>...</th>\n",
       "      <td>...</td>\n",
       "      <td>...</td>\n",
       "      <td>...</td>\n",
       "      <td>...</td>\n",
       "      <td>...</td>\n",
       "      <td>...</td>\n",
       "      <td>...</td>\n",
       "      <td>...</td>\n",
       "      <td>...</td>\n",
       "    </tr>\n",
       "    <tr>\n",
       "      <th>3140</th>\n",
       "      <td>0</td>\n",
       "      <td>Clinton County</td>\n",
       "      <td>MO</td>\n",
       "      <td>Educated</td>\n",
       "      <td>CATHOLIC</td>\n",
       "      <td>MULTI MALE RATE</td>\n",
       "      <td>BLACK FEMALE RATE</td>\n",
       "      <td>0.218274</td>\n",
       "      <td>0.056540</td>\n",
       "    </tr>\n",
       "    <tr>\n",
       "      <th>3141</th>\n",
       "      <td>0</td>\n",
       "      <td>Union County</td>\n",
       "      <td>AR</td>\n",
       "      <td>Uneducated</td>\n",
       "      <td>MAINLINE CHRISTIAN</td>\n",
       "      <td>BLACK MALE RATE</td>\n",
       "      <td>BLACK FEMALE RATE</td>\n",
       "      <td>-0.377396</td>\n",
       "      <td>0.103015</td>\n",
       "    </tr>\n",
       "    <tr>\n",
       "      <th>3142</th>\n",
       "      <td>0</td>\n",
       "      <td>Garfield County</td>\n",
       "      <td>NE</td>\n",
       "      <td>Educated</td>\n",
       "      <td>MAINLINE CHRISTIAN</td>\n",
       "      <td>MULTI MALE RATE</td>\n",
       "      <td>BLACK FEMALE RATE</td>\n",
       "      <td>-0.372484</td>\n",
       "      <td>0.028213</td>\n",
       "    </tr>\n",
       "    <tr>\n",
       "      <th>3143</th>\n",
       "      <td>0</td>\n",
       "      <td>Greene County</td>\n",
       "      <td>IN</td>\n",
       "      <td>Uneducated</td>\n",
       "      <td>MAINLINE CHRISTIAN</td>\n",
       "      <td>MULTI MALE RATE</td>\n",
       "      <td>NATIVE AMERICAN FEMALE RATE</td>\n",
       "      <td>-0.275662</td>\n",
       "      <td>0.061139</td>\n",
       "    </tr>\n",
       "    <tr>\n",
       "      <th>3144</th>\n",
       "      <td>0</td>\n",
       "      <td>Morton County</td>\n",
       "      <td>ND</td>\n",
       "      <td>Educated</td>\n",
       "      <td>MAINLINE CHRISTIAN</td>\n",
       "      <td>NATIVE AMERICAN MALE RATE</td>\n",
       "      <td>NATIVE AMERICAN FEMALE RATE</td>\n",
       "      <td>1.092836</td>\n",
       "      <td>0.030785</td>\n",
       "    </tr>\n",
       "  </tbody>\n",
       "</table>\n",
       "<p>3140 rows × 9 columns</p>\n",
       "</div>"
      ],
      "text/plain": [
       "      democrat                             county state   education  \\\n",
       "0            0                       Sioux County    NE    Educated   \n",
       "1            1                     Baltimore city    MD    Educated   \n",
       "2            1                  Chittenden County    VT    Educated   \n",
       "3            0  Prince of Wales-Hyder Census Area    AK  Uneducated   \n",
       "4            0                   St. Johns County    FL    Educated   \n",
       "...        ...                                ...   ...         ...   \n",
       "3140         0                     Clinton County    MO    Educated   \n",
       "3141         0                       Union County    AR  Uneducated   \n",
       "3142         0                    Garfield County    NE    Educated   \n",
       "3143         0                      Greene County    IN  Uneducated   \n",
       "3144         0                      Morton County    ND    Educated   \n",
       "\n",
       "                religion                ethnic_male  \\\n",
       "0      CHRISTIAN GENERIC            MULTI MALE RATE   \n",
       "1             OTHER MISC            WHITE MALE RATE   \n",
       "2     MAINLINE CHRISTIAN            ASIAN MALE RATE   \n",
       "3             OTHER MISC            BLACK MALE RATE   \n",
       "4     MAINLINE CHRISTIAN            BLACK MALE RATE   \n",
       "...                  ...                        ...   \n",
       "3140            CATHOLIC            MULTI MALE RATE   \n",
       "3141  MAINLINE CHRISTIAN            BLACK MALE RATE   \n",
       "3142  MAINLINE CHRISTIAN            MULTI MALE RATE   \n",
       "3143  MAINLINE CHRISTIAN            MULTI MALE RATE   \n",
       "3144  MAINLINE CHRISTIAN  NATIVE AMERICAN MALE RATE   \n",
       "\n",
       "                    ethnic_female  per_capita_inc  deep_pov_all  \n",
       "0     NATIVE AMERICAN FEMALE RATE        0.632577      0.034402  \n",
       "1               WHITE FEMALE RATE        0.175301      0.120282  \n",
       "2               BLACK FEMALE RATE        1.722184      0.056108  \n",
       "3               BLACK FEMALE RATE        0.118294      0.063867  \n",
       "4               BLACK FEMALE RATE        2.295051      0.042655  \n",
       "...                           ...             ...           ...  \n",
       "3140            BLACK FEMALE RATE        0.218274      0.056540  \n",
       "3141            BLACK FEMALE RATE       -0.377396      0.103015  \n",
       "3142            BLACK FEMALE RATE       -0.372484      0.028213  \n",
       "3143  NATIVE AMERICAN FEMALE RATE       -0.275662      0.061139  \n",
       "3144  NATIVE AMERICAN FEMALE RATE        1.092836      0.030785  \n",
       "\n",
       "[3140 rows x 9 columns]"
      ]
     },
     "execution_count": 19,
     "metadata": {},
     "output_type": "execute_result"
    }
   ],
   "source": [
    "df1 = pd.read_csv(\"elections_clean.csv\")\n",
    "df = df1[['democrat', 'county', 'state', 'education', 'religion', 'ethnic_male','ethnic_female','per_capita_inc', 'deep_pov_all']]\n",
    "df.dropna(inplace = True)\n",
    "df"
   ]
  },
  {
   "cell_type": "code",
   "execution_count": 20,
   "metadata": {},
   "outputs": [
    {
     "name": "stderr",
     "output_type": "stream",
     "text": [
      "/var/folders/dz/ffb7x_vj5vl9758_4vqfvj3m0000gn/T/ipykernel_79216/3304235216.py:3: SettingWithCopyWarning: \n",
      "A value is trying to be set on a copy of a slice from a DataFrame.\n",
      "Try using .loc[row_indexer,col_indexer] = value instead\n",
      "\n",
      "See the caveats in the documentation: https://pandas.pydata.org/pandas-docs/stable/user_guide/indexing.html#returning-a-view-versus-a-copy\n",
      "  df['target'] = df[target]\n",
      "/var/folders/dz/ffb7x_vj5vl9758_4vqfvj3m0000gn/T/ipykernel_79216/3304235216.py:4: SettingWithCopyWarning: \n",
      "A value is trying to be set on a copy of a slice from a DataFrame\n",
      "\n",
      "See the caveats in the documentation: https://pandas.pydata.org/pandas-docs/stable/user_guide/indexing.html#returning-a-view-versus-a-copy\n",
      "  df.drop([target], axis = 1, inplace = True)\n",
      "/var/folders/dz/ffb7x_vj5vl9758_4vqfvj3m0000gn/T/ipykernel_79216/3304235216.py:5: SettingWithCopyWarning: \n",
      "A value is trying to be set on a copy of a slice from a DataFrame\n",
      "\n",
      "See the caveats in the documentation: https://pandas.pydata.org/pandas-docs/stable/user_guide/indexing.html#returning-a-view-versus-a-copy\n",
      "  df.drop(['democrat'], axis = 1, inplace = True)\n"
     ]
    }
   ],
   "source": [
    "# Put the target coloum to the last column of df\n",
    "target = 'deep_pov_all'\n",
    "df['target'] = df[target]\n",
    "df.drop([target], axis = 1, inplace = True)\n",
    "df.drop(['democrat'], axis = 1, inplace = True)"
   ]
  },
  {
   "cell_type": "code",
   "execution_count": 21,
   "metadata": {},
   "outputs": [
    {
     "data": {
      "text/html": [
       "<div>\n",
       "<style scoped>\n",
       "    .dataframe tbody tr th:only-of-type {\n",
       "        vertical-align: middle;\n",
       "    }\n",
       "\n",
       "    .dataframe tbody tr th {\n",
       "        vertical-align: top;\n",
       "    }\n",
       "\n",
       "    .dataframe thead th {\n",
       "        text-align: right;\n",
       "    }\n",
       "</style>\n",
       "<table border=\"1\" class=\"dataframe\">\n",
       "  <thead>\n",
       "    <tr style=\"text-align: right;\">\n",
       "      <th></th>\n",
       "      <th>county</th>\n",
       "      <th>state</th>\n",
       "      <th>education</th>\n",
       "      <th>religion</th>\n",
       "      <th>ethnic_male</th>\n",
       "      <th>ethnic_female</th>\n",
       "      <th>per_capita_inc</th>\n",
       "      <th>target</th>\n",
       "    </tr>\n",
       "  </thead>\n",
       "  <tbody>\n",
       "    <tr>\n",
       "      <th>0</th>\n",
       "      <td>1542</td>\n",
       "      <td>29</td>\n",
       "      <td>0</td>\n",
       "      <td>3</td>\n",
       "      <td>3</td>\n",
       "      <td>3</td>\n",
       "      <td>2253</td>\n",
       "      <td>311</td>\n",
       "    </tr>\n",
       "    <tr>\n",
       "      <th>1</th>\n",
       "      <td>92</td>\n",
       "      <td>20</td>\n",
       "      <td>0</td>\n",
       "      <td>11</td>\n",
       "      <td>5</td>\n",
       "      <td>4</td>\n",
       "      <td>1802</td>\n",
       "      <td>2896</td>\n",
       "    </tr>\n",
       "    <tr>\n",
       "      <th>2</th>\n",
       "      <td>331</td>\n",
       "      <td>46</td>\n",
       "      <td>0</td>\n",
       "      <td>5</td>\n",
       "      <td>0</td>\n",
       "      <td>0</td>\n",
       "      <td>2695</td>\n",
       "      <td>1163</td>\n",
       "    </tr>\n",
       "    <tr>\n",
       "      <th>3</th>\n",
       "      <td>1368</td>\n",
       "      <td>0</td>\n",
       "      <td>1</td>\n",
       "      <td>11</td>\n",
       "      <td>1</td>\n",
       "      <td>0</td>\n",
       "      <td>1737</td>\n",
       "      <td>1508</td>\n",
       "    </tr>\n",
       "    <tr>\n",
       "      <th>4</th>\n",
       "      <td>1576</td>\n",
       "      <td>9</td>\n",
       "      <td>0</td>\n",
       "      <td>5</td>\n",
       "      <td>1</td>\n",
       "      <td>0</td>\n",
       "      <td>2772</td>\n",
       "      <td>596</td>\n",
       "    </tr>\n",
       "    <tr>\n",
       "      <th>...</th>\n",
       "      <td>...</td>\n",
       "      <td>...</td>\n",
       "      <td>...</td>\n",
       "      <td>...</td>\n",
       "      <td>...</td>\n",
       "      <td>...</td>\n",
       "      <td>...</td>\n",
       "      <td>...</td>\n",
       "    </tr>\n",
       "    <tr>\n",
       "      <th>3140</th>\n",
       "      <td>359</td>\n",
       "      <td>24</td>\n",
       "      <td>0</td>\n",
       "      <td>2</td>\n",
       "      <td>3</td>\n",
       "      <td>0</td>\n",
       "      <td>1851</td>\n",
       "      <td>1183</td>\n",
       "    </tr>\n",
       "    <tr>\n",
       "      <th>3141</th>\n",
       "      <td>1715</td>\n",
       "      <td>2</td>\n",
       "      <td>1</td>\n",
       "      <td>5</td>\n",
       "      <td>1</td>\n",
       "      <td>0</td>\n",
       "      <td>1083</td>\n",
       "      <td>2722</td>\n",
       "    </tr>\n",
       "    <tr>\n",
       "      <th>3142</th>\n",
       "      <td>621</td>\n",
       "      <td>29</td>\n",
       "      <td>0</td>\n",
       "      <td>5</td>\n",
       "      <td>3</td>\n",
       "      <td>0</td>\n",
       "      <td>1091</td>\n",
       "      <td>153</td>\n",
       "    </tr>\n",
       "    <tr>\n",
       "      <th>3143</th>\n",
       "      <td>686</td>\n",
       "      <td>15</td>\n",
       "      <td>1</td>\n",
       "      <td>5</td>\n",
       "      <td>3</td>\n",
       "      <td>3</td>\n",
       "      <td>1213</td>\n",
       "      <td>1401</td>\n",
       "    </tr>\n",
       "    <tr>\n",
       "      <th>3144</th>\n",
       "      <td>1150</td>\n",
       "      <td>28</td>\n",
       "      <td>0</td>\n",
       "      <td>5</td>\n",
       "      <td>4</td>\n",
       "      <td>3</td>\n",
       "      <td>2522</td>\n",
       "      <td>206</td>\n",
       "    </tr>\n",
       "  </tbody>\n",
       "</table>\n",
       "<p>3140 rows × 8 columns</p>\n",
       "</div>"
      ],
      "text/plain": [
       "      county  state  education  religion  ethnic_male  ethnic_female  \\\n",
       "0       1542     29          0         3            3              3   \n",
       "1         92     20          0        11            5              4   \n",
       "2        331     46          0         5            0              0   \n",
       "3       1368      0          1        11            1              0   \n",
       "4       1576      9          0         5            1              0   \n",
       "...      ...    ...        ...       ...          ...            ...   \n",
       "3140     359     24          0         2            3              0   \n",
       "3141    1715      2          1         5            1              0   \n",
       "3142     621     29          0         5            3              0   \n",
       "3143     686     15          1         5            3              3   \n",
       "3144    1150     28          0         5            4              3   \n",
       "\n",
       "      per_capita_inc  target  \n",
       "0               2253     311  \n",
       "1               1802    2896  \n",
       "2               2695    1163  \n",
       "3               1737    1508  \n",
       "4               2772     596  \n",
       "...              ...     ...  \n",
       "3140            1851    1183  \n",
       "3141            1083    2722  \n",
       "3142            1091     153  \n",
       "3143            1213    1401  \n",
       "3144            2522     206  \n",
       "\n",
       "[3140 rows x 8 columns]"
      ]
     },
     "execution_count": 21,
     "metadata": {},
     "output_type": "execute_result"
    }
   ],
   "source": [
    "# Use label encoder to transform the non-categorical data to categorical data\n",
    "LableEncoder = preprocessing.LabelEncoder()\n",
    "df = df.apply((LableEncoder.fit_transform))\n",
    "df"
   ]
  },
  {
   "cell_type": "markdown",
   "metadata": {},
   "source": [
    "problem 6.1"
   ]
  },
  {
   "cell_type": "code",
   "execution_count": 22,
   "metadata": {},
   "outputs": [
    {
     "name": "stdout",
     "output_type": "stream",
     "text": [
      "(2198, 7)\n",
      "(942, 7)\n"
     ]
    }
   ],
   "source": [
    "#split trainning and testing samples\n",
    "df_train = df.sample(frac=0.7, random_state=0)\n",
    "df_test=df.drop(df_train.index)\n",
    "X_train = df_train.iloc[:,:-1]\n",
    "y_train = df_train.drop(X_train.keys(), axis = 1)\n",
    "\n",
    "X_test = df_test.iloc[:,:-1]\n",
    "y_test = df_test.drop(X_test.keys(), axis = 1)\n",
    "\n",
    "print(X_train.shape)\n",
    "print(X_test.shape)"
   ]
  },
  {
   "cell_type": "code",
   "execution_count": 23,
   "metadata": {},
   "outputs": [],
   "source": [
    "# Train the tree\n",
    "regr_tree = DecisionTreeRegressor(random_state=0)\n",
    "regr_tree.fit(X_train, y_train)\n",
    "predictions = regr_tree.predict(X_test)\n"
   ]
  },
  {
   "cell_type": "code",
   "execution_count": 24,
   "metadata": {},
   "outputs": [
    {
     "data": {
      "text/plain": [
       "0.04232767673566906"
      ]
     },
     "execution_count": 24,
     "metadata": {},
     "output_type": "execute_result"
    }
   ],
   "source": [
    "# Testing\n",
    "y_test = np.array(y_test).flatten()\n",
    "# testing score\n",
    "regr_tree.score(X_test,y_test)\n"
   ]
  },
  {
   "cell_type": "markdown",
   "metadata": {},
   "source": [
    "problem 6.2"
   ]
  },
  {
   "cell_type": "markdown",
   "metadata": {},
   "source": [
    "    I have tested the maximum depth of the tree from one to ten.\n",
    "    By prepruning I found that cross Vaildation gives the highest average value when the max_depth of the tree is equal to 5. \n",
    "    So I think the tree with max_depth of 5 is the best regression tree."
   ]
  },
  {
   "cell_type": "code",
   "execution_count": 25,
   "metadata": {},
   "outputs": [],
   "source": [
    "m_depth = 5\n",
    "num_sum_section = int(len(df)/5)\n",
    "section1 = df.iloc[:num_sum_section]\n",
    "section2 = df.iloc[num_sum_section:num_sum_section*2]\n",
    "section3 = df.iloc[num_sum_section*2:num_sum_section*3]\n",
    "section4 = df.iloc[num_sum_section*3:num_sum_section*4]\n",
    "section5 = df.iloc[num_sum_section*4:num_sum_section*5]\n",
    "\n",
    "#sec"
   ]
  },
  {
   "cell_type": "code",
   "execution_count": 26,
   "metadata": {},
   "outputs": [
    {
     "name": "stdout",
     "output_type": "stream",
     "text": [
      "0.44454294948102513\n"
     ]
    }
   ],
   "source": [
    "df2 = pd.concat([section2,section3,section4,section5])\n",
    "X_train = df2.iloc[:,:-1]\n",
    "y_train = df2.drop(X_train.keys(), axis = 1)\n",
    "X_test = section1.iloc[:,:-1]\n",
    "y_test = section1.drop(X_test.keys(), axis = 1)\n",
    "# Train the tree\n",
    "regr_tree1 = DecisionTreeRegressor(random_state=0, max_depth = m_depth)\n",
    "regr_tree1.fit(X_train, y_train)\n",
    "predictions = regr_tree1.predict(X_test)\n",
    "# Testing\n",
    "score1 = regr_tree1.score(X_test,y_test)\n",
    "print(score1)\n"
   ]
  },
  {
   "cell_type": "code",
   "execution_count": 27,
   "metadata": {},
   "outputs": [
    {
     "name": "stdout",
     "output_type": "stream",
     "text": [
      "0.45448246553275484\n"
     ]
    }
   ],
   "source": [
    "df2 = pd.concat([section1,section3,section4,section5])\n",
    "X_train = df2.iloc[:,:-1]\n",
    "y_train = df2.drop(X_train.keys(), axis = 1)\n",
    "X_test = section2.iloc[:,:-1]\n",
    "y_test = section2.drop(X_test.keys(), axis = 1)\n",
    "# Train the tree\n",
    "regr_tree2 = DecisionTreeRegressor(random_state=0, max_depth = m_depth)\n",
    "regr_tree2.fit(X_train, y_train)\n",
    "predictions = regr_tree2.predict(X_test)\n",
    "# Testing\n",
    "score2 = regr_tree2.score(X_test,y_test)\n",
    "print(score2)\n",
    "\n",
    "    "
   ]
  },
  {
   "cell_type": "code",
   "execution_count": 28,
   "metadata": {},
   "outputs": [
    {
     "name": "stdout",
     "output_type": "stream",
     "text": [
      "0.4108973722252067\n"
     ]
    }
   ],
   "source": [
    "df2 = pd.concat([section1,section2,section4,section5])\n",
    "X_train = df2.iloc[:,:-1]\n",
    "y_train = df2.drop(X_train.keys(), axis = 1)\n",
    "X_test = section3.iloc[:,:-1]\n",
    "y_test = section3.drop(X_test.keys(), axis = 1)\n",
    "# Train the tree\n",
    "regr_tree3 = DecisionTreeRegressor(random_state=0, max_depth = m_depth)\n",
    "regr_tree3.fit(X_train, y_train)\n",
    "predictions = regr_tree3.predict(X_test)\n",
    "# Testing\n",
    "score3 = regr_tree3.score(X_test,y_test)\n",
    "print(score3)\n"
   ]
  },
  {
   "cell_type": "code",
   "execution_count": 29,
   "metadata": {},
   "outputs": [
    {
     "name": "stdout",
     "output_type": "stream",
     "text": [
      "0.4969586210907002\n"
     ]
    }
   ],
   "source": [
    "df2 = pd.concat([section1,section2,section3,section5])\n",
    "X_train = df2.iloc[:,:-1]\n",
    "y_train = df2.drop(X_train.keys(), axis = 1)\n",
    "X_test = section4.iloc[:,:-1]\n",
    "y_test = section4.drop(X_test.keys(), axis = 1)\n",
    "# Train the tree\n",
    "regr_tree4 = DecisionTreeRegressor(random_state=0, max_depth = m_depth)\n",
    "regr_tree4.fit(X_train, y_train)\n",
    "predictions = regr_tree4.predict(X_test)\n",
    "# Testing\n",
    "score4 = regr_tree4.score(X_test,y_test)\n",
    "print(score4)\n"
   ]
  },
  {
   "cell_type": "code",
   "execution_count": 30,
   "metadata": {},
   "outputs": [
    {
     "name": "stdout",
     "output_type": "stream",
     "text": [
      "0.4761027404166871\n"
     ]
    }
   ],
   "source": [
    "df2 = pd.concat([section1,section2,section3,section4])\n",
    "X_train = df2.iloc[:,:-1]\n",
    "y_train = df2.drop(X_train.keys(), axis = 1)\n",
    "X_test = section5.iloc[:,:-1]\n",
    "y_test = section5.drop(X_test.keys(), axis = 1)\n",
    "# Train the tree\n",
    "regr_tree5 = DecisionTreeRegressor(random_state=0, max_depth = m_depth)\n",
    "regr_tree5.fit(X_train, y_train)\n",
    "predictions = regr_tree5.predict(X_test)\n",
    "# Testing\n",
    "score5 = regr_tree5.score(X_test,y_test)\n",
    "print(score5)\n"
   ]
  },
  {
   "cell_type": "code",
   "execution_count": 31,
   "metadata": {},
   "outputs": [
    {
     "data": {
      "text/plain": [
       "0.45659682974927485"
      ]
     },
     "execution_count": 31,
     "metadata": {},
     "output_type": "execute_result"
    }
   ],
   "source": [
    "mean = (score1+score2+score3+score4+score5)/5\n",
    "mean"
   ]
  }
 ],
 "metadata": {
  "kernelspec": {
   "display_name": "Python 3.10.5 ('my-env')",
   "language": "python",
   "name": "python3"
  },
  "language_info": {
   "codemirror_mode": {
    "name": "ipython",
    "version": 3
   },
   "file_extension": ".py",
   "mimetype": "text/x-python",
   "name": "python",
   "nbconvert_exporter": "python",
   "pygments_lexer": "ipython3",
   "version": "3.10.6"
  },
  "orig_nbformat": 4,
  "vscode": {
   "interpreter": {
    "hash": "fffe89ac52413fb39337687d7244f9d047e73cfd698b292667d72b398446bc8e"
   }
  }
 },
 "nbformat": 4,
 "nbformat_minor": 2
}
