{
 "cells": [
  {
   "cell_type": "code",
   "execution_count": 1,
   "metadata": {},
   "outputs": [],
   "source": [
    "# This should be roughly the content of the first code cell\n",
    "import numpy as np\n",
    "import random\n",
    "np.random.seed(1337)\n",
    "random.seed(1337)"
   ]
  },
  {
   "cell_type": "code",
   "execution_count": 2,
   "metadata": {},
   "outputs": [],
   "source": [
    "import pandas as pd\n",
    "import sklearn\n",
    "from sklearn.ensemble import RandomForestClassifier as RFC\n",
    "from sklearn.model_selection import train_test_split\n",
    "from sklearn import metrics\n",
    "from sklearn.datasets import load_wine, load_iris,make_classification\n",
    "from sklearn.tree import DecisionTreeClassifier\n",
    "from sklearn.tree import export_text\n",
    "from sklearn.model_selection import train_test_split\n",
    "from sklearn.model_selection import cross_val_score\n",
    "from matplotlib import pyplot as plt\n",
    "\n"
   ]
  },
  {
   "cell_type": "code",
   "execution_count": 3,
   "metadata": {},
   "outputs": [
    {
     "name": "stderr",
     "output_type": "stream",
     "text": [
      "/var/folders/dz/ffb7x_vj5vl9758_4vqfvj3m0000gn/T/ipykernel_79101/3893859448.py:4: SettingWithCopyWarning: \n",
      "A value is trying to be set on a copy of a slice from a DataFrame\n",
      "\n",
      "See the caveats in the documentation: https://pandas.pydata.org/pandas-docs/stable/user_guide/indexing.html#returning-a-view-versus-a-copy\n",
      "  df.dropna(inplace = True)\n"
     ]
    },
    {
     "data": {
      "text/html": [
       "<div>\n",
       "<style scoped>\n",
       "    .dataframe tbody tr th:only-of-type {\n",
       "        vertical-align: middle;\n",
       "    }\n",
       "\n",
       "    .dataframe tbody tr th {\n",
       "        vertical-align: top;\n",
       "    }\n",
       "\n",
       "    .dataframe thead th {\n",
       "        text-align: right;\n",
       "    }\n",
       "</style>\n",
       "<table border=\"1\" class=\"dataframe\">\n",
       "  <thead>\n",
       "    <tr style=\"text-align: right;\">\n",
       "      <th></th>\n",
       "      <th>democrat</th>\n",
       "      <th>county</th>\n",
       "      <th>state</th>\n",
       "      <th>education</th>\n",
       "      <th>religion</th>\n",
       "      <th>ethnic_male</th>\n",
       "      <th>ethnic_female</th>\n",
       "    </tr>\n",
       "  </thead>\n",
       "  <tbody>\n",
       "    <tr>\n",
       "      <th>0</th>\n",
       "      <td>0</td>\n",
       "      <td>Sioux County</td>\n",
       "      <td>NE</td>\n",
       "      <td>Educated</td>\n",
       "      <td>CHRISTIAN GENERIC</td>\n",
       "      <td>MULTI MALE RATE</td>\n",
       "      <td>NATIVE AMERICAN FEMALE RATE</td>\n",
       "    </tr>\n",
       "    <tr>\n",
       "      <th>1</th>\n",
       "      <td>1</td>\n",
       "      <td>Baltimore city</td>\n",
       "      <td>MD</td>\n",
       "      <td>Educated</td>\n",
       "      <td>OTHER MISC</td>\n",
       "      <td>WHITE MALE RATE</td>\n",
       "      <td>WHITE FEMALE RATE</td>\n",
       "    </tr>\n",
       "    <tr>\n",
       "      <th>2</th>\n",
       "      <td>1</td>\n",
       "      <td>Chittenden County</td>\n",
       "      <td>VT</td>\n",
       "      <td>Educated</td>\n",
       "      <td>MAINLINE CHRISTIAN</td>\n",
       "      <td>ASIAN MALE RATE</td>\n",
       "      <td>BLACK FEMALE RATE</td>\n",
       "    </tr>\n",
       "    <tr>\n",
       "      <th>3</th>\n",
       "      <td>0</td>\n",
       "      <td>Prince of Wales-Hyder Census Area</td>\n",
       "      <td>AK</td>\n",
       "      <td>Uneducated</td>\n",
       "      <td>OTHER MISC</td>\n",
       "      <td>BLACK MALE RATE</td>\n",
       "      <td>BLACK FEMALE RATE</td>\n",
       "    </tr>\n",
       "    <tr>\n",
       "      <th>4</th>\n",
       "      <td>0</td>\n",
       "      <td>St. Johns County</td>\n",
       "      <td>FL</td>\n",
       "      <td>Educated</td>\n",
       "      <td>MAINLINE CHRISTIAN</td>\n",
       "      <td>BLACK MALE RATE</td>\n",
       "      <td>BLACK FEMALE RATE</td>\n",
       "    </tr>\n",
       "    <tr>\n",
       "      <th>...</th>\n",
       "      <td>...</td>\n",
       "      <td>...</td>\n",
       "      <td>...</td>\n",
       "      <td>...</td>\n",
       "      <td>...</td>\n",
       "      <td>...</td>\n",
       "      <td>...</td>\n",
       "    </tr>\n",
       "    <tr>\n",
       "      <th>3140</th>\n",
       "      <td>0</td>\n",
       "      <td>Clinton County</td>\n",
       "      <td>MO</td>\n",
       "      <td>Educated</td>\n",
       "      <td>CATHOLIC</td>\n",
       "      <td>MULTI MALE RATE</td>\n",
       "      <td>BLACK FEMALE RATE</td>\n",
       "    </tr>\n",
       "    <tr>\n",
       "      <th>3141</th>\n",
       "      <td>0</td>\n",
       "      <td>Union County</td>\n",
       "      <td>AR</td>\n",
       "      <td>Uneducated</td>\n",
       "      <td>MAINLINE CHRISTIAN</td>\n",
       "      <td>BLACK MALE RATE</td>\n",
       "      <td>BLACK FEMALE RATE</td>\n",
       "    </tr>\n",
       "    <tr>\n",
       "      <th>3142</th>\n",
       "      <td>0</td>\n",
       "      <td>Garfield County</td>\n",
       "      <td>NE</td>\n",
       "      <td>Educated</td>\n",
       "      <td>MAINLINE CHRISTIAN</td>\n",
       "      <td>MULTI MALE RATE</td>\n",
       "      <td>BLACK FEMALE RATE</td>\n",
       "    </tr>\n",
       "    <tr>\n",
       "      <th>3143</th>\n",
       "      <td>0</td>\n",
       "      <td>Greene County</td>\n",
       "      <td>IN</td>\n",
       "      <td>Uneducated</td>\n",
       "      <td>MAINLINE CHRISTIAN</td>\n",
       "      <td>MULTI MALE RATE</td>\n",
       "      <td>NATIVE AMERICAN FEMALE RATE</td>\n",
       "    </tr>\n",
       "    <tr>\n",
       "      <th>3144</th>\n",
       "      <td>0</td>\n",
       "      <td>Morton County</td>\n",
       "      <td>ND</td>\n",
       "      <td>Educated</td>\n",
       "      <td>MAINLINE CHRISTIAN</td>\n",
       "      <td>NATIVE AMERICAN MALE RATE</td>\n",
       "      <td>NATIVE AMERICAN FEMALE RATE</td>\n",
       "    </tr>\n",
       "  </tbody>\n",
       "</table>\n",
       "<p>3140 rows × 7 columns</p>\n",
       "</div>"
      ],
      "text/plain": [
       "      democrat                             county state   education  \\\n",
       "0            0                       Sioux County    NE    Educated   \n",
       "1            1                     Baltimore city    MD    Educated   \n",
       "2            1                  Chittenden County    VT    Educated   \n",
       "3            0  Prince of Wales-Hyder Census Area    AK  Uneducated   \n",
       "4            0                   St. Johns County    FL    Educated   \n",
       "...        ...                                ...   ...         ...   \n",
       "3140         0                     Clinton County    MO    Educated   \n",
       "3141         0                       Union County    AR  Uneducated   \n",
       "3142         0                    Garfield County    NE    Educated   \n",
       "3143         0                      Greene County    IN  Uneducated   \n",
       "3144         0                      Morton County    ND    Educated   \n",
       "\n",
       "                religion                ethnic_male  \\\n",
       "0      CHRISTIAN GENERIC            MULTI MALE RATE   \n",
       "1             OTHER MISC            WHITE MALE RATE   \n",
       "2     MAINLINE CHRISTIAN            ASIAN MALE RATE   \n",
       "3             OTHER MISC            BLACK MALE RATE   \n",
       "4     MAINLINE CHRISTIAN            BLACK MALE RATE   \n",
       "...                  ...                        ...   \n",
       "3140            CATHOLIC            MULTI MALE RATE   \n",
       "3141  MAINLINE CHRISTIAN            BLACK MALE RATE   \n",
       "3142  MAINLINE CHRISTIAN            MULTI MALE RATE   \n",
       "3143  MAINLINE CHRISTIAN            MULTI MALE RATE   \n",
       "3144  MAINLINE CHRISTIAN  NATIVE AMERICAN MALE RATE   \n",
       "\n",
       "                    ethnic_female  \n",
       "0     NATIVE AMERICAN FEMALE RATE  \n",
       "1               WHITE FEMALE RATE  \n",
       "2               BLACK FEMALE RATE  \n",
       "3               BLACK FEMALE RATE  \n",
       "4               BLACK FEMALE RATE  \n",
       "...                           ...  \n",
       "3140            BLACK FEMALE RATE  \n",
       "3141            BLACK FEMALE RATE  \n",
       "3142            BLACK FEMALE RATE  \n",
       "3143  NATIVE AMERICAN FEMALE RATE  \n",
       "3144  NATIVE AMERICAN FEMALE RATE  \n",
       "\n",
       "[3140 rows x 7 columns]"
      ]
     },
     "execution_count": 3,
     "metadata": {},
     "output_type": "execute_result"
    }
   ],
   "source": [
    "df1 = pd.read_csv(\"elections_clean.csv\")\n",
    "df = df1[['democrat', 'county', 'state', 'education', 'religion', 'ethnic_male','ethnic_female']]\n",
    "#df.drop(columns=['county'], axis = 1, inplace = True)\n",
    "df.dropna(inplace = True)\n",
    "df"
   ]
  },
  {
   "cell_type": "code",
   "execution_count": 4,
   "metadata": {},
   "outputs": [],
   "source": [
    "#df.drop(columns=['county', 'state'], axis = 1, inplace = True)"
   ]
  },
  {
   "cell_type": "code",
   "execution_count": 5,
   "metadata": {},
   "outputs": [
    {
     "name": "stderr",
     "output_type": "stream",
     "text": [
      "/var/folders/dz/ffb7x_vj5vl9758_4vqfvj3m0000gn/T/ipykernel_79101/3398214840.py:3: SettingWithCopyWarning: \n",
      "A value is trying to be set on a copy of a slice from a DataFrame\n",
      "\n",
      "See the caveats in the documentation: https://pandas.pydata.org/pandas-docs/stable/user_guide/indexing.html#returning-a-view-versus-a-copy\n",
      "  df.drop([target], axis = 1, inplace = True)\n"
     ]
    }
   ],
   "source": [
    "target = 'democrat'\n",
    "y = df[target]\n",
    "df.drop([target], axis = 1, inplace = True)\n",
    "X = pd.get_dummies(df)\n",
    "X_train, X_test, y_train, y_test = train_test_split(X, y, test_size=0.3, random_state=0)"
   ]
  },
  {
   "cell_type": "code",
   "execution_count": 6,
   "metadata": {},
   "outputs": [
    {
     "name": "stdout",
     "output_type": "stream",
     "text": [
      "Accuracy (%) of training: 85.16833484986351 %\n"
     ]
    },
    {
     "data": {
      "image/png": "[encoded data removed]",
      "text/plain": [
       "<Figure size 640x480 with 1 Axes>"
      ]
     },
     "metadata": {},
     "output_type": "display_data"
    }
   ],
   "source": [
    "\n",
    "forest = RFC(n_estimators=50, max_depth=3)\n",
    "forest.fit(X_train, y_train)\n",
    "predictions = forest.predict(X_train)\n",
    "print(\"Accuracy (%) of training:\",metrics.accuracy_score(y_train, predictions)*100,\"%\")\n",
    "plt.pie([metrics.accuracy_score(y_train, predictions)*100, 100 - metrics.accuracy_score(y_train, predictions)*100],labels = ['training accuracy', 'training error'],autopct = '%0.2f%%')\n",
    "plt.show()"
   ]
  },
  {
   "cell_type": "code",
   "execution_count": 7,
   "metadata": {},
   "outputs": [
    {
     "name": "stdout",
     "output_type": "stream",
     "text": [
      "Accuracy of testing(%): 83.12101910828027 %\n"
     ]
    },
    {
     "data": {
      "image/png": "[encoded data removed]",
      "text/plain": [
       "<Figure size 640x480 with 1 Axes>"
      ]
     },
     "metadata": {},
     "output_type": "display_data"
    }
   ],
   "source": [
    "predictions = forest.predict(X_test)\n",
    "print(\"Accuracy of testing(%):\",metrics.accuracy_score(y_test, predictions)*100,\"%\")\n",
    "plt.pie([metrics.accuracy_score(y_test, predictions)*100, 100 - metrics.accuracy_score(y_test, predictions)*100],labels = ['testing accuracy', 'testing error'],autopct = '%0.2f%%')\n",
    "plt.show()"
   ]
  },
  {
   "cell_type": "markdown",
   "metadata": {},
   "source": []
  },
  {
   "cell_type": "code",
   "execution_count": 8,
   "metadata": {},
   "outputs": [],
   "source": [
    "train_acy = []\n",
    "test_acy = []\n",
    "for i in range(1,10):\n",
    "    m_depth = i\n",
    "    forest2 = RFC(n_estimators=i, max_depth=3)\n",
    "    forest2.fit(X_train, y_train)\n",
    "    predictions = forest2.predict(X_train)\n",
    "    train_acy.append(forest2.score(X_train, y_train))\n",
    "    predictions = forest2.predict(X_test)\n",
    "    test_acy.append(forest2.score(X_test, y_test))\n",
    "train_acy = np.array(train_acy)\n",
    "test_acy = np.array(test_acy)\n",
    "train_error = 1 - train_acy\n",
    "test_error = 1 - test_acy\n"
   ]
  },
  {
   "cell_type": "code",
   "execution_count": 9,
   "metadata": {},
   "outputs": [
    {
     "data": {
      "image/png": "[encoded data removed]",
      "text/plain": [
       "<Figure size 640x480 with 1 Axes>"
      ]
     },
     "metadata": {},
     "output_type": "display_data"
    }
   ],
   "source": [
    "plt.axis([0,8,0,1])\n",
    "plt.plot(train_acy, 'blue', label = 'Train')\n",
    "plt.plot(test_acy, 'orange', label = 'Test')\n",
    "plt.plot(train_error, 'blue', label = 'Train Error')\n",
    "plt.plot(test_error, 'orange', label = 'Test Error')\n",
    "leg = plt.legend(loc='lower center')\n",
    "plt.show()"
   ]
  },
  {
   "cell_type": "markdown",
   "metadata": {},
   "source": [
    "    Summary.\n",
    "    In general random forest performs better than a single decision tree. In this example we see that random forest performs better when the decision tree does not remove the COUNTY features (26% accuracy for decision tree, 83% accuracy for random forest). However, after these two features are removed random forest does not perform as well as decision tree (87% accuracy for decision tree and 83% accuracy for random forest).\n",
    "\n",
    "    In general, random forest is more stable. There are two reasons why random forest performs so consistently. First, it uses the majority voting principle for prediction, which reduces the influence of extreme values on the decision. Second, random forest has strong resistance to overfitting. In this assignment, the decision created by problem2 is typically overfitted, with a train accuracy of 100% but a test accuracy of only 26%."
   ]
  }
 ],
 "metadata": {
  "kernelspec": {
   "display_name": "Python 3.10.5 ('my-env')",
   "language": "python",
   "name": "python3"
  },
  "language_info": {
   "codemirror_mode": {
    "name": "ipython",
    "version": 3
   },
   "file_extension": ".py",
   "mimetype": "text/x-python",
   "name": "python",
   "nbconvert_exporter": "python",
   "pygments_lexer": "ipython3",
   "version": "3.10.6"
  },
  "orig_nbformat": 4,
  "vscode": {
   "interpreter": {
    "hash": "fffe89ac52413fb39337687d7244f9d047e73cfd698b292667d72b398446bc8e"
   }
  }
 },
 "nbformat": 4,
 "nbformat_minor": 2
}
